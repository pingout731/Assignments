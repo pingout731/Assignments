{
 "cells": [
  {
   "cell_type": "markdown",
   "id": "8d1cb30c",
   "metadata": {},
   "source": [
    "# Data Science Tools and Ecosystem"
   ]
  },
  {
   "cell_type": "markdown",
   "id": "026888a8",
   "metadata": {},
   "source": [
    "In this notebook, Data Science Tools and Ecosystem are summarized."
   ]
  },
  {
   "cell_type": "markdown",
   "id": "d399a64f",
   "metadata": {},
   "source": [
    "**Objectives:**\n",
    "    \n",
    " * List Some of the popular languages that Data Scientists \n",
    " * List Some of the commonly used libraries used by Data Scientists\n",
    " * List some of the open source development environmental Data Science Tools\n",
    "    "
   ]
  },
  {
   "cell_type": "markdown",
   "id": "40def628",
   "metadata": {},
   "source": [
    "Some of the popular languages that Data Scientists use are:\n",
    "    \n",
    "    1. Python\n",
    "    2. R\n",
    "    3. Java"
   ]
  },
  {
   "cell_type": "markdown",
   "id": "5c7a98b1",
   "metadata": {},
   "source": [
    "Some of the commonly used libraries used by Data Scientists include:\n",
    "    \n",
    "    - NumPy\n",
    "    - Pandas\n",
    "    - TensorFlow"
   ]
  },
  {
   "cell_type": "markdown",
   "id": "ecbc5782",
   "metadata": {},
   "source": [
    "| Data Science Tools |\n",
    "|--------------------|\n",
    "| Watson Studio|\n",
    "| Google Colab|\n",
    "| RStudio|\n"
   ]
  },
  {
   "cell_type": "markdown",
   "id": "505cd448",
   "metadata": {},
   "source": [
    "### Below are a few examples of evaluating arithmetic expressions in Python\n",
    "\n",
    "Ex: x = 1\n",
    "    \n",
    "    y = 2\n",
    "    \n",
    "    result = x+y\n",
    "    \n",
    "    print(result)\n",
    "    "
   ]
  },
  {
   "cell_type": "code",
   "execution_count": 1,
   "id": "31761caa",
   "metadata": {},
   "outputs": [
    {
     "data": {
      "text/plain": [
       "17"
      ]
     },
     "execution_count": 1,
     "metadata": {},
     "output_type": "execute_result"
    }
   ],
   "source": [
    "#This a simple arithmetic expression to mutiply then add integers\n",
    "(3*4)+5\n"
   ]
  },
  {
   "cell_type": "code",
   "execution_count": 3,
   "id": "19a5f3f6",
   "metadata": {},
   "outputs": [
    {
     "name": "stdout",
     "output_type": "stream",
     "text": [
      "3.3333333333333335\n"
     ]
    }
   ],
   "source": [
    "#This will convert 200 minutes to hours by diving by 60\n",
    "min = 200\n",
    "minperhr = 60\n",
    "hours = min/minperhr\n",
    "print(hours)\n"
   ]
  },
  {
   "cell_type": "markdown",
   "id": "182907c9",
   "metadata": {},
   "source": [
    "## Author:\n",
    "Szu-Ying Wang"
   ]
  }
 ],
 "metadata": {
  "kernelspec": {
   "display_name": "Python 3 (ipykernel)",
   "language": "python",
   "name": "python3"
  },
  "language_info": {
   "codemirror_mode": {
    "name": "ipython",
    "version": 3
   },
   "file_extension": ".py",
   "mimetype": "text/x-python",
   "name": "python",
   "nbconvert_exporter": "python",
   "pygments_lexer": "ipython3",
   "version": "3.11.5"
  }
 },
 "nbformat": 4,
 "nbformat_minor": 5
}
